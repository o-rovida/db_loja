{
 "cells": [
  {
   "cell_type": "code",
   "execution_count": 32,
   "metadata": {},
   "outputs": [],
   "source": [
    "import pandas as pd\n",
    "import mysql.connector"
   ]
  },
  {
   "cell_type": "code",
   "execution_count": 33,
   "metadata": {},
   "outputs": [
    {
     "name": "stderr",
     "output_type": "stream",
     "text": [
      "C:\\Users\\Magoo\\AppData\\Local\\Temp\\ipykernel_764\\2577575920.py:1: DtypeWarning: Columns (0,5) have mixed types. Specify dtype option on import or set low_memory=False.\n",
      "  cep_table = pd.read_csv('cep_table.csv', sep=';')\n"
     ]
    }
   ],
   "source": [
    "cep_table = pd.read_csv('cep_table.csv', sep=';')"
   ]
  },
  {
   "cell_type": "code",
   "execution_count": 34,
   "metadata": {},
   "outputs": [],
   "source": [
    "cep_table['LOGRADOURO'] = cep_table['LOGRADOURO'].str.cat(cep_table['COMPLEMENTO'], sep =\" \")\n",
    "cep_table.drop('COMPLEMENTO',axis=1,inplace=True)\n",
    "cep_table.fillna('', inplace=True)\n",
    "cep_table.drop_duplicates(subset='CEP',inplace=True)"
   ]
  },
  {
   "cell_type": "code",
   "execution_count": 36,
   "metadata": {},
   "outputs": [],
   "source": [
    "cnx = mysql.connector.connect(user='joao', password='#12tribosdeIsrael',host='localhost',database='db_loja')\n",
    "\n",
    "cursor = cnx.cursor()"
   ]
  },
  {
   "cell_type": "code",
   "execution_count": null,
   "metadata": {},
   "outputs": [],
   "source": [
    "n = 1\n",
    "\n",
    "total = len(cep_table)\n",
    "\n",
    "for cep, uf, cidade, bairro, logradouro in zip(cep_table['CEP'], cep_table['UF'], cep_table['CIDADE'], cep_table['BAIRRO'], cep_table['LOGRADOURO']):\n",
    "    \n",
    "    n += 1\n",
    "    \n",
    "    try:\n",
    "        if logradouro == '':\n",
    "            \n",
    "            query = f\"\"\"\n",
    "            INSERT INTO endereco (cep, uf, cidade, bairro)\n",
    "            VALUES (\"{cep}\",\"{uf}\",\"{cidade}\",\"{bairro}\");\n",
    "            \"\"\"\n",
    "\n",
    "            cursor.execute(query)\n",
    "               \n",
    "        else:\n",
    "\n",
    "            query = f\"\"\"\n",
    "            INSERT INTO endereco (cep, uf, cidade, bairro, logradouro)\n",
    "            VALUES (\"{cep}\",\"{uf}\",\"{cidade}\",\"{bairro}\",\"{logradouro}\");\n",
    "            \"\"\"\n",
    "\n",
    "            cursor.execute(query)\n",
    "        \n",
    "    except:\n",
    "        continue\n",
    "    \n",
    "    print(f'{round(n/total*100,2)}% concluído')\n",
    "\n",
    "cnx.commit()\n",
    "\n",
    "cursor.close()\n",
    "cnx.close()"
   ]
  }
 ],
 "metadata": {
  "kernelspec": {
   "display_name": "Python 3",
   "language": "python",
   "name": "python3"
  },
  "language_info": {
   "codemirror_mode": {
    "name": "ipython",
    "version": 3
   },
   "file_extension": ".py",
   "mimetype": "text/x-python",
   "name": "python",
   "nbconvert_exporter": "python",
   "pygments_lexer": "ipython3",
   "version": "3.8.10"
  },
  "orig_nbformat": 4
 },
 "nbformat": 4,
 "nbformat_minor": 2
}
